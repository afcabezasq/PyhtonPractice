{
 "cells": [
  {
   "cell_type": "code",
   "execution_count": null,
   "metadata": {},
   "outputs": [],
   "source": [
    "## Api\n"
   ]
  },
  {
   "cell_type": "markdown",
   "metadata": {},
   "source": [
    "## Api\n",
    "The join between the backend and the frontend is made through an API\n",
    "\n",
    "### SOAP\n",
    "xml language\n",
    "\n",
    "### REST\n",
    "json language\n",
    "\n",
    "Javascript object notation\n",
    "\n",
    "## HTTP\n",
    "Hipertext Transfer Protocol\n",
    "\n",
    "Client: Al devices that you use\n",
    "Server: Distributes the information to the clients\n",
    "\n",
    "Headers: Useful additional information in the request and the response\n",
    "\n",
    "\n",
    "## Server\n",
    "\n",
    "Computer that host my application\n",
    "\n",
    "\n",
    "## Twitter API\n",
    "\n",
    "- FastAPI\n",
    "- DJANGO > Rer Framework\n",
    "- Flask\n",
    "\n",
    "Endpoint/route/path\n",
    "\n",
    "http://twitter.com/api/tweets\n",
    "\n",
    "Tweets:\n",
    "\n",
    "    /tweets - show all tweets\n",
    "    /post - Publish a tweet\n",
    "    /tweets/{tweetid} - Show a cetain tweet\n",
    "    /tweets/{tweetid}/update - Update a tweet\n",
    "    /tweets/{tweetid}/delete - Delte API\n",
    "\n",
    "Users:\n",
    "\n",
    "    /users -> show all users\n",
    "    /signup -> register user\n",
    "    /users/{userid} -> show a certain user\n",
    "    /users/{userid}/update\n",
    "    /users/{userid}/delete\n",
    "\n",
    "\n",
    "\n",
    "\n",
    "\n"
   ]
  }
 ],
 "metadata": {
  "language_info": {
   "name": "python"
  },
  "orig_nbformat": 4
 },
 "nbformat": 4,
 "nbformat_minor": 2
}
